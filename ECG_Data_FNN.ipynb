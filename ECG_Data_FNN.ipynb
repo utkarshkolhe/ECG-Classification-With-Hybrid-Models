{
  "nbformat": 4,
  "nbformat_minor": 0,
  "metadata": {
    "colab": {
      "provenance": [],
      "gpuType": "T4"
    },
    "kernelspec": {
      "name": "python3",
      "display_name": "Python 3"
    },
    "language_info": {
      "name": "python"
    },
    "accelerator": "GPU"
  },
  "cells": [
    {
      "cell_type": "code",
      "execution_count": 1,
      "metadata": {
        "colab": {
          "base_uri": "https://localhost:8080/"
        },
        "id": "1bnu4I_7AquB",
        "outputId": "08a02b60-831d-44f5-f568-c4370fd9b384"
      },
      "outputs": [
        {
          "output_type": "stream",
          "name": "stdout",
          "text": [
            "Mounted at /content/gdrive\n"
          ]
        }
      ],
      "source": [
        "from google.colab import drive\n",
        "drive.mount('/content/gdrive')"
      ]
    },
    {
      "cell_type": "code",
      "source": [
        "import numpy as np\n",
        "import pandas as pd"
      ],
      "metadata": {
        "id": "7cL4znvhLKVS"
      },
      "execution_count": 16,
      "outputs": []
    },
    {
      "cell_type": "code",
      "source": [
        "train_df=pd.read_csv('/content/gdrive/MyDrive/ECGData/mitbih_train.csv',header=None)\n",
        "test_df=pd.read_csv('/content/gdrive/MyDrive/ECGData/mitbih_test.csv',header=None)"
      ],
      "metadata": {
        "id": "viu3wXknKzVj"
      },
      "execution_count": 17,
      "outputs": []
    },
    {
      "cell_type": "code",
      "source": [
        "train_df[187]=train_df[187].astype(int)\n",
        "distribution=train_df[187].value_counts()\n",
        "print(distribution)"
      ],
      "metadata": {
        "colab": {
          "base_uri": "https://localhost:8080/"
        },
        "id": "6tLXYuI2LFFy",
        "outputId": "aa6c4e65-93d1-4c0d-98a4-4a5795b9e48a"
      },
      "execution_count": 18,
      "outputs": [
        {
          "output_type": "stream",
          "name": "stdout",
          "text": [
            "0    72471\n",
            "4     6431\n",
            "2     5788\n",
            "1     2223\n",
            "3      641\n",
            "Name: 187, dtype: int64\n"
          ]
        }
      ]
    },
    {
      "cell_type": "code",
      "source": [
        "test_df[187]=test_df[187].astype(int)\n",
        "distribution=test_df[187].value_counts()\n",
        "print(distribution)"
      ],
      "metadata": {
        "colab": {
          "base_uri": "https://localhost:8080/"
        },
        "id": "58LryzyRM3L6",
        "outputId": "a8be4ba3-64f9-45de-d27b-df6c73efa169"
      },
      "execution_count": 19,
      "outputs": [
        {
          "output_type": "stream",
          "name": "stdout",
          "text": [
            "0    18118\n",
            "4     1608\n",
            "2     1448\n",
            "1      556\n",
            "3      162\n",
            "Name: 187, dtype: int64\n"
          ]
        }
      ]
    },
    {
      "cell_type": "code",
      "source": [
        "type(distribution)"
      ],
      "metadata": {
        "colab": {
          "base_uri": "https://localhost:8080/"
        },
        "id": "E1DiWcrcLeJ8",
        "outputId": "84414e3e-c2ed-43be-c796-a32589f8462a"
      },
      "execution_count": 20,
      "outputs": [
        {
          "output_type": "execute_result",
          "data": {
            "text/plain": [
              "pandas.core.series.Series"
            ]
          },
          "metadata": {},
          "execution_count": 20
        }
      ]
    },
    {
      "cell_type": "code",
      "source": [
        "from sklearn.utils import resample\n",
        "count1=10000\n",
        "newtraindf=(train_df[train_df[187]==0]).sample(n=count1)\n",
        "for i in range(1,5):\n",
        "  df_i=train_df[train_df[187]==i]\n",
        "  df_x=resample(df_i,replace=True,n_samples=count1)\n",
        "  newtraindf=pd.concat([newtraindf,df_x])\n",
        "\n",
        "newtestdf=pd.DataFrame()\n",
        "newvaldf=pd.DataFrame()\n",
        "\n",
        "for i in range(0,5):\n",
        "  shuffled_df=test_df[test_df[187]==i].sample(frac=1, random_state=42)\n",
        "  split_index = len(shuffled_df) // 2\n",
        "  df_half1 = shuffled_df.iloc[:split_index, :]\n",
        "  df_half2 = shuffled_df.iloc[split_index:, :]\n",
        "  newtestdf=pd.concat([newtestdf,df_half1])\n",
        "  newvaldf=pd.concat([newvaldf,df_half1])"
      ],
      "metadata": {
        "id": "YmtXwrjNLk2I"
      },
      "execution_count": 22,
      "outputs": []
    },
    {
      "cell_type": "code",
      "source": [
        "def standardize(train,test,final_test):\n",
        "\n",
        "    mean = np.mean(train, axis=0)\n",
        "    std = np.std(train, axis=0)+0.000001\n",
        "\n",
        "    X_train = (train - mean) / std\n",
        "    X_test = (test-mean)/std\n",
        "    X_final_test = (final_test-mean)/std\n",
        "    return X_train,X_test,X_final_test"
      ],
      "metadata": {
        "id": "67wN-BhLQZXG"
      },
      "execution_count": 28,
      "outputs": []
    },
    {
      "cell_type": "code",
      "source": [
        "\n",
        "# Access the datasets in the HDF5 file\n",
        "train_1_data = newtraindf[newtraindf.columns[:187]].values\n",
        "train_1_labels = newtraindf[newtraindf.columns[187:188]].values\n",
        "y_train = train_1_labels.reshape(train_1_labels.shape[0])\n",
        "# train_1_data = train_1_data.reshape((train_1_data.shape[0],1,train_1_data.shape[1]))\n",
        "train_1_data = train_1_data.astype(float)\n",
        "\n",
        "\n",
        "test_1_data = newvaldf[newvaldf.columns[:187]].values\n",
        "test_1_labels = newvaldf[newvaldf.columns[187:188]].values\n",
        "y_test = test_1_labels.reshape(test_1_labels.shape[0])\n",
        "# test_1_data = test_1_data.reshape((test_1_data.shape[0],1,test_1_data.shape[1]))\n",
        "test_1_data = test_1_data.astype(float)\n",
        "\n",
        "\n",
        "final_test_1_data = newtestdf[newtestdf.columns[:187]].values\n",
        "final_test_1_labels = newtestdf[newtestdf.columns[187:188]].values\n",
        "y_final_test = final_test_1_labels.reshape(final_test_1_labels.shape[0])\n",
        "# test_1_data = test_1_data.reshape((test_1_data.shape[0],1,test_1_data.shape[1]))\n",
        "final_test_1_data = final_test_1_data.astype(float)\n",
        "\n",
        "X_train,X_test,X_final_test=standardize(train_1_data,test_1_data,final_test_1_data)"
      ],
      "metadata": {
        "id": "xP49goYBPOGY"
      },
      "execution_count": 29,
      "outputs": []
    },
    {
      "cell_type": "code",
      "source": [
        "X_train.shape"
      ],
      "metadata": {
        "colab": {
          "base_uri": "https://localhost:8080/"
        },
        "id": "98wlc3JCY0YW",
        "outputId": "31fc3007-0cc0-4357-a445-43f51d49f1bd"
      },
      "execution_count": 30,
      "outputs": [
        {
          "output_type": "execute_result",
          "data": {
            "text/plain": [
              "(50000, 187)"
            ]
          },
          "metadata": {},
          "execution_count": 30
        }
      ]
    },
    {
      "cell_type": "code",
      "source": [
        "y_train.shape"
      ],
      "metadata": {
        "colab": {
          "base_uri": "https://localhost:8080/"
        },
        "id": "sTSjAHBdY2w1",
        "outputId": "1add6f32-a484-4884-99b5-9891dd3ba1d1"
      },
      "execution_count": 31,
      "outputs": [
        {
          "output_type": "execute_result",
          "data": {
            "text/plain": [
              "(50000,)"
            ]
          },
          "metadata": {},
          "execution_count": 31
        }
      ]
    },
    {
      "cell_type": "code",
      "source": [
        "import torch"
      ],
      "metadata": {
        "id": "L2mv8PrRSrL8"
      },
      "execution_count": 33,
      "outputs": []
    },
    {
      "cell_type": "code",
      "source": [
        "# Convert the NumPy arrays to PyTorch tensors\n",
        "train_loaded_data = torch.from_numpy(X_train)\n",
        "train_loaded_labels = torch.from_numpy(y_train)\n",
        "\n",
        "test_loaded_data = torch.from_numpy(X_test)\n",
        "test_loaded_labels = torch.from_numpy(y_test)\n",
        "\n",
        "final_test_loaded_data = torch.from_numpy(X_final_test)\n",
        "final_test_loaded_labels = torch.from_numpy(y_final_test)"
      ],
      "metadata": {
        "id": "0Z-yh2NIQ484"
      },
      "execution_count": 34,
      "outputs": []
    },
    {
      "cell_type": "code",
      "source": [
        "from torch.nn import Module\n",
        "from torch.nn import Conv2d\n",
        "from torch.nn import Linear\n",
        "from torch.nn import MaxPool2d\n",
        "from torch.nn import ReLU\n",
        "from torch.nn import LogSoftmax\n",
        "from torch import flatten\n",
        "import torch\n",
        "import torch.nn as nn\n",
        "import torch.optim as optim"
      ],
      "metadata": {
        "id": "eR6oLmzhS0QY"
      },
      "execution_count": 35,
      "outputs": []
    },
    {
      "cell_type": "code",
      "source": [
        "X_train.shape"
      ],
      "metadata": {
        "colab": {
          "base_uri": "https://localhost:8080/"
        },
        "id": "L4AXl_QZS7Jk",
        "outputId": "09534825-e71f-4457-bf16-e8706ef63a70"
      },
      "execution_count": null,
      "outputs": [
        {
          "output_type": "execute_result",
          "data": {
            "text/plain": [
              "(50000, 187)"
            ]
          },
          "metadata": {},
          "execution_count": 39
        }
      ]
    },
    {
      "cell_type": "code",
      "source": [
        "\n",
        "# Define the CNN model\n",
        "class SimpleNN(nn.Module):\n",
        "  def __init__(self, num_classes=5):\n",
        "      super(SimpleNN, self).__init__()\n",
        "\n",
        "      self.fc1 = nn.Linear(187, 100)\n",
        "      self.relu1 = nn.ReLU()\n",
        "      self.fc2 = nn.Linear(100, 50)\n",
        "      self.relu2 = nn.ReLU()\n",
        "      self.fc3 = nn.Linear(50, num_classes)\n",
        "      self.outputactication = nn.Sigmoid()\n",
        "\n",
        "  def forward(self, x):\n",
        "      x = self.relu1(self.fc1(x))\n",
        "      x = self.relu2(self.fc2(x))\n",
        "      x = self.outputactication(self.fc3(x))\n",
        "      return x"
      ],
      "metadata": {
        "id": "LSKt6IOOSwuy"
      },
      "execution_count": 36,
      "outputs": []
    },
    {
      "cell_type": "code",
      "source": [
        "from torch.utils.data import DataLoader, TensorDataset\n",
        "import torch.nn.functional as F"
      ],
      "metadata": {
        "id": "8GsPplQbT5Rd"
      },
      "execution_count": 38,
      "outputs": []
    },
    {
      "cell_type": "code",
      "source": [
        "batch_size = 500  # Adjust as needed\n",
        "train_dataset = TensorDataset(train_loaded_data, train_loaded_labels)\n",
        "train_loader = DataLoader(train_dataset, batch_size=batch_size, shuffle=True)\n",
        "\n",
        "test_dataset = TensorDataset(test_loaded_data, test_loaded_labels)\n",
        "test_loader = DataLoader(test_dataset, batch_size=batch_size, shuffle=False)\n",
        "\n",
        "final_test_dataset = TensorDataset(final_test_loaded_data, final_test_loaded_labels)\n",
        "final_test_loader = DataLoader(final_test_dataset, batch_size=batch_size, shuffle=False)"
      ],
      "metadata": {
        "id": "-xSLdfldUjiI"
      },
      "execution_count": 39,
      "outputs": []
    },
    {
      "cell_type": "code",
      "source": [
        "def getAccuracy(neuralmodel,loader):\n",
        "    neuralmodel.eval()\n",
        "    correct = 0\n",
        "    total = 0\n",
        "    with torch.no_grad():\n",
        "        for inputs, labels in loader:\n",
        "            inputs = inputs.float()\n",
        "            inputs, labels = inputs.to(device), labels.to(device)\n",
        "            outputs = neuralmodel(inputs)\n",
        "            _, predicted = torch.max(outputs.data, 1)\n",
        "            total += labels.size(0)\n",
        "            correct += (predicted == labels).sum().item()\n",
        "\n",
        "    # Calculate test accuracy\n",
        "    test_accuracy = correct / total\n",
        "    return test_accuracy,(f'{test_accuracy * 100:.2f}%')"
      ],
      "metadata": {
        "id": "L_cLjWWtUmGL"
      },
      "execution_count": 42,
      "outputs": []
    },
    {
      "cell_type": "code",
      "source": [
        "plotdata=[]\n",
        "num_epochs = 101\n",
        "cnn_model = SimpleNN()\n",
        "criterion = nn.CrossEntropyLoss()\n",
        "learning_rate = 0.01\n",
        "# cnn_model.train()\n",
        "# optimizer = optim.SGD(cnn_model.parameters(),lr=10)\n",
        "optimizer = optim.SGD(cnn_model.parameters(), lr=learning_rate,momentum=0.9)\n",
        "device = torch.device(\"cuda\" if torch.cuda.is_available() else \"cpu\")\n",
        "cnn_model.to(device)\n",
        "for epoch in range(num_epochs):\n",
        "    for inputs, labels in train_loader:\n",
        "        # print(inputs.shape)\n",
        "        inputs, labels = inputs.to(device), labels.to(device)\n",
        "        inputs = inputs.float()\n",
        "        outputs = cnn_model(inputs)\n",
        "        # print(outputs.shape)\n",
        "        loss = criterion(outputs, labels)\n",
        "\n",
        "        # Backward pass and optimization\n",
        "        loss.backward()\n",
        "        optimizer.step()\n",
        "        optimizer.zero_grad()\n",
        "    if (epoch) % 10 == 0:\n",
        "        # print(outputs.sum())\n",
        "        # print(loss.numpy())\n",
        "\n",
        "        train_val,trainacc=getAccuracy(cnn_model,train_loader)\n",
        "        test_val,testacc=getAccuracy(cnn_model,test_loader)\n",
        "        plotdata.append([epoch+1,train_val,test_val])\n",
        "        print(f'Epoch [{epoch+1}/{num_epochs}], Loss: {loss.item():.4f}')\n",
        "        print(\"Train Acc \",trainacc,\" Test Acc \",testacc)\n",
        "\n",
        "        cnn_model.train()\n",
        "print(\"Training complete!\")"
      ],
      "metadata": {
        "colab": {
          "base_uri": "https://localhost:8080/"
        },
        "id": "UZBO_uqZUrqJ",
        "outputId": "c6343de3-2e1a-4d5b-8a27-48fc25b44445"
      },
      "execution_count": 43,
      "outputs": [
        {
          "output_type": "stream",
          "name": "stdout",
          "text": [
            "Epoch [1/101], Loss: 1.4962\n",
            "Train Acc  52.37%  Test Acc  11.14%\n",
            "Epoch [11/101], Loss: 1.0928\n",
            "Train Acc  77.72%  Test Acc  63.47%\n",
            "Epoch [21/101], Loss: 1.0584\n",
            "Train Acc  80.98%  Test Acc  74.68%\n",
            "Epoch [31/101], Loss: 1.0188\n",
            "Train Acc  82.93%  Test Acc  79.79%\n",
            "Epoch [41/101], Loss: 1.0360\n",
            "Train Acc  84.97%  Test Acc  82.97%\n",
            "Epoch [51/101], Loss: 1.0160\n",
            "Train Acc  86.65%  Test Acc  82.81%\n",
            "Epoch [61/101], Loss: 1.0059\n",
            "Train Acc  88.19%  Test Acc  83.56%\n",
            "Epoch [71/101], Loss: 0.9994\n",
            "Train Acc  89.23%  Test Acc  84.95%\n",
            "Epoch [81/101], Loss: 0.9905\n",
            "Train Acc  89.85%  Test Acc  86.26%\n",
            "Epoch [91/101], Loss: 0.9880\n",
            "Train Acc  90.32%  Test Acc  87.84%\n",
            "Epoch [101/101], Loss: 0.9869\n",
            "Train Acc  90.89%  Test Acc  87.51%\n",
            "Training complete!\n"
          ]
        }
      ]
    },
    {
      "cell_type": "code",
      "source": [
        "plotdf = pd.DataFrame(columns=[\"Epoch\",\"Train Acc\",\"Test Acc\"])\n",
        "\n",
        "for dat in plotdata:\n",
        "  plotdf.loc[plotdf.shape[0]]=dat"
      ],
      "metadata": {
        "id": "rwzuOal33GZq"
      },
      "execution_count": 45,
      "outputs": []
    },
    {
      "cell_type": "code",
      "source": [
        "plotdf.to_csv(\"/content/gdrive/MyDrive/ECGData/PlotData/fnn_plotdata.csv\",index=False)"
      ],
      "metadata": {
        "id": "f-6w2tNr3Ysb"
      },
      "execution_count": 52,
      "outputs": []
    },
    {
      "cell_type": "code",
      "source": [
        "torch.save(cnn_model.state_dict(), \"/content/gdrive/MyDrive/ECGData/Models/FNN_model.pth\")"
      ],
      "metadata": {
        "id": "5EWanYMu38tK"
      },
      "execution_count": 53,
      "outputs": []
    },
    {
      "cell_type": "code",
      "source": [
        "from sklearn.metrics import precision_score, recall_score, f1_score, accuracy_score"
      ],
      "metadata": {
        "id": "JOfATjZkUvLC"
      },
      "execution_count": 61,
      "outputs": []
    },
    {
      "cell_type": "code",
      "source": [
        "cnn_model.eval()\n",
        "correct = 0\n",
        "total = 0\n",
        "\n",
        "total_labels=[]\n",
        "total_predicted=[]\n",
        "with torch.no_grad():\n",
        "    for inputs, labels in final_test_loader:\n",
        "        inputs = inputs.float()\n",
        "        inputs, labels = inputs.to(device), labels.to(device)\n",
        "        outputs = cnn_model(inputs)\n",
        "        total_labels = total_labels +labels.tolist()\n",
        "\n",
        "        _, predicted = torch.max(outputs.data, 1)\n",
        "        total += labels.size(0)\n",
        "        total_predicted = total_predicted+predicted.tolist()\n",
        "        correct += (predicted == labels).sum().item()\n",
        "\n",
        "# Calculate test accuracy\n",
        "test_accuracy = correct / total\n",
        "print(f'{test_accuracy * 100:.2f}%')"
      ],
      "metadata": {
        "colab": {
          "base_uri": "https://localhost:8080/"
        },
        "id": "VLkIJQkO3jaw",
        "outputId": "42cfe7b8-509e-4f71-b25b-4033310a97d5"
      },
      "execution_count": 54,
      "outputs": [
        {
          "output_type": "stream",
          "name": "stdout",
          "text": [
            "87.51%\n"
          ]
        }
      ]
    },
    {
      "cell_type": "code",
      "source": [],
      "metadata": {
        "id": "qqcilpNK5OUL"
      },
      "execution_count": null,
      "outputs": []
    },
    {
      "cell_type": "code",
      "source": [
        "y_true_np = np.array(total_labels)\n",
        "y_pred_np = np.array(total_predicted)\n",
        "# Calculate precision, recall, and F1 score\n",
        "precision = precision_score(y_true_np, y_pred_np, average='weighted')\n",
        "recall = recall_score(y_true_np, y_pred_np, average='weighted')\n",
        "f1 = f1_score(y_true_np, y_pred_np, average='weighted')\n",
        "accuracy = accuracy_score(y_true_np, y_pred_np)\n",
        "\n",
        "print(\"Precision:\", precision)\n",
        "print(\"Recall:\", recall)\n",
        "print(\"F1 Score:\", f1)\n",
        "print(\"Accuracy:\", accuracy)"
      ],
      "metadata": {
        "colab": {
          "base_uri": "https://localhost:8080/"
        },
        "id": "PfWlXF565E4J",
        "outputId": "881df1a4-c3d4-40af-de97-85d2ba99c758"
      },
      "execution_count": 62,
      "outputs": [
        {
          "output_type": "stream",
          "name": "stdout",
          "text": [
            "Precision: 0.9422951943535709\n",
            "Recall: 0.8751141969669286\n",
            "F1 Score: 0.8998633688095576\n",
            "Accuracy: 0.8751141969669286\n"
          ]
        }
      ]
    },
    {
      "cell_type": "code",
      "source": [
        "metrics_df = pd.DataFrame(columns=[\"Metric\",\"Value\"])\n",
        "metrics_df.loc[0]=[\"Accuracy\",accuracy]\n",
        "metrics_df.loc[1]=[\"Precision\",precision]\n",
        "metrics_df.loc[2]=[\"Recall\",recall]\n",
        "metrics_df.loc[3]=[\"F1 Score\",f1]\n",
        "metrics_df.to_csv(\"/content/gdrive/MyDrive/ECGData/Metrics/fnn_metrics.csv\",index=False)\n"
      ],
      "metadata": {
        "id": "e0AVnOjT5jHa"
      },
      "execution_count": 63,
      "outputs": []
    },
    {
      "cell_type": "code",
      "source": [],
      "metadata": {
        "id": "YUkQ8kt55jiV"
      },
      "execution_count": null,
      "outputs": []
    }
  ]
}